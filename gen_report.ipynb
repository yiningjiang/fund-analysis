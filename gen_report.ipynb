{
 "cells": [
  {
   "cell_type": "code",
   "execution_count": 2,
   "metadata": {},
   "outputs": [],
   "source": [
    "import pandas as pd\n",
    "data1=pd.read_csv('data/list/5.csv',header=None)\n",
    "data2=pd.read_csv('data/list/10.csv',header=None)\n",
    "data3=pd.read_csv('data/list/20.csv',header=None)\n",
    "data4=pd.read_csv('data/list/100.csv',header=None)\n",
    "data5=pd.read_csv('data/list/wq.csv',header=None)\n",
    "name1=data1.iloc[:,1].values\n",
    "name2=data2.iloc[:,1].values\n",
    "name3=data3.iloc[:,1].values\n",
    "name4=data4.iloc[:,1].values\n",
    "name5=data5.iloc[:,1].values"
   ]
  },
  {
   "cell_type": "code",
   "execution_count": 3,
   "metadata": {},
   "outputs": [],
   "source": [
    "#批量生成cta风格基金分析报告\n",
    "import sys,os\n",
    "IPYNB_FILENAME = '基金分析报告cta.ipynb'\n",
    "CONFIG_FILENAME = '.config_ipynb'\n",
    "\n",
    "def gen_report(fundname):\n",
    "    with open(CONFIG_FILENAME,'w') as f:\n",
    "        #f.write(' '.join(argv))\n",
    "        f.write(fundname)\n",
    "        f.close()\n",
    "        os.system('jupyter nbconvert --execute {:s} --to html --output {:s}'.format(IPYNB_FILENAME, 'report/cta/'+fundname+'分析报告'))\n",
    "\n",
    "def main(argv):\n",
    "    for n in name1:\n",
    "        gen_report(n)\n",
    "        \n",
    "    return None\n",
    "\n",
    "if __name__ == '__main__':\n",
    "    main(sys.argv)"
   ]
  },
  {
   "cell_type": "code",
   "execution_count": 2,
   "metadata": {},
   "outputs": [],
   "source": [
    "#批量生成股票风格基金分析报告\n",
    "import sys,os\n",
    "IPYNB_FILENAME = '基金分析报告stock.ipynb'\n",
    "CONFIG_FILENAME = '.config_ipynb'\n",
    "\n",
    "def gen_report(fundname):\n",
    "    with open(CONFIG_FILENAME,'w') as f:\n",
    "        #f.write(' '.join(argv))\n",
    "        f.write(fundname)\n",
    "        f.close()\n",
    "        os.system('jupyter nbconvert --execute {:s} --to html --output {:s}'.format(IPYNB_FILENAME, 'report/stock/'+fundname+'分析报告'))\n",
    "\n",
    "def main(argv):\n",
    "    for n in name3:\n",
    "        gen_report(n)\n",
    "        \n",
    "    return None\n",
    "\n",
    "if __name__ == '__main__':\n",
    "    main(sys.argv)"
   ]
  },
  {
   "cell_type": "code",
   "execution_count": 4,
   "metadata": {},
   "outputs": [],
   "source": [
    "#批量生成混合风格基金分析报告\n",
    "import sys,os\n",
    "IPYNB_FILENAME = '基金分析报告mix.ipynb'\n",
    "CONFIG_FILENAME = '.config_ipynb'\n",
    "\n",
    "def gen_report(fundname):\n",
    "    with open(CONFIG_FILENAME,'w') as f:\n",
    "        #f.write(' '.join(argv))\n",
    "        f.write(fundname)\n",
    "        f.close()\n",
    "        os.system('jupyter nbconvert --execute {:s} --to html --output {:s}'.format(IPYNB_FILENAME,'report/mix/'+fundname+'分析报告'))\n",
    "\n",
    "def main(argv):\n",
    "    for n in name4:\n",
    "        gen_report(n)\n",
    "        \n",
    "    return None\n",
    "\n",
    "if __name__ == '__main__':\n",
    "    main(sys.argv)"
   ]
  },
  {
   "cell_type": "code",
   "execution_count": 3,
   "metadata": {},
   "outputs": [],
   "source": [
    "#批量生成对冲风格基金分析报告\n",
    "import sys,os\n",
    "IPYNB_FILENAME = '基金分析报告hedge.ipynb'\n",
    "CONFIG_FILENAME = '.config_ipynb'\n",
    "\n",
    "def gen_report(fundname):\n",
    "    with open(CONFIG_FILENAME,'w') as f:\n",
    "        #f.write(' '.join(argv))\n",
    "        f.write(fundname)\n",
    "        f.close()\n",
    "        os.system('jupyter nbconvert --execute {:s} --to html --output {:s}'.format(IPYNB_FILENAME, 'report/hedge/'+fundname+'分析报告'))\n",
    "\n",
    "def main(argv):\n",
    "    for n in name2:\n",
    "        gen_report(n)\n",
    "        \n",
    "    return None\n",
    "\n",
    "if __name__ == '__main__':\n",
    "    main(sys.argv)"
   ]
  },
  {
   "cell_type": "code",
   "execution_count": 5,
   "metadata": {},
   "outputs": [],
   "source": [
    "#批量生成宽德系列基金分析报告\n",
    "import sys,os\n",
    "IPYNB_FILENAME = '基金分析报告hedge.ipynb'\n",
    "CONFIG_FILENAME = '.config_ipynb'\n",
    "\n",
    "def gen_report(fundname):\n",
    "    with open(CONFIG_FILENAME,'w') as f:\n",
    "        #f.write(' '.join(argv))\n",
    "        f.write(fundname)\n",
    "        f.close()\n",
    "        os.system('jupyter nbconvert --execute {:s} --to html --output {:s}'.format(IPYNB_FILENAME, 'report/wizardquant/'+fundname+'分析报告'))\n",
    "\n",
    "def main(argv):\n",
    "    for n in name5:\n",
    "        gen_report(n)\n",
    "        \n",
    "    return None\n",
    "\n",
    "if __name__ == '__main__':\n",
    "    main(sys.argv)"
   ]
  }
 ],
 "metadata": {
  "kernelspec": {
   "display_name": "Python 3",
   "language": "python",
   "name": "python3"
  },
  "language_info": {
   "codemirror_mode": {
    "name": "ipython",
    "version": 3
   },
   "file_extension": ".py",
   "mimetype": "text/x-python",
   "name": "python",
   "nbconvert_exporter": "python",
   "pygments_lexer": "ipython3",
   "version": "3.6.6"
  }
 },
 "nbformat": 4,
 "nbformat_minor": 2
}
